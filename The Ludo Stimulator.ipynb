{
 "cells": [
  {
   "cell_type": "markdown",
   "id": "b380518a",
   "metadata": {},
   "source": [
    "I have been suffering from procastination lately and I figured if I built something fun then I'd be encouraged to create new Ml\n",
    "learning models. So I decided to work by creating my favorite game.\n",
    "Ludo\n",
    "Ofcourse I'll give more features to the game later on, for now I'll create the interface"
   ]
  },
  {
   "cell_type": "code",
   "execution_count": 1,
   "id": "284da2af",
   "metadata": {},
   "outputs": [
    {
     "data": {
      "text/plain": [
       "''"
      ]
     },
     "execution_count": 1,
     "metadata": {},
     "output_type": "execute_result"
    }
   ],
   "source": [
    "#We'll start by importing the necessary files and creating a widget for the main window\n",
    "import tkinter\n",
    "from PIL import Image, ImageTk\n",
    "import random\n",
    "\n",
    "root = tkinter.Tk()\n",
    "root.geometry('400x600')\n",
    "root.title('The Ludo Game')"
   ]
  },
  {
   "cell_type": "code",
   "execution_count": 3,
   "id": "141f7a68",
   "metadata": {},
   "outputs": [],
   "source": [
    "#Then I'll add a label to the frame that willl be like a header, and assign it different fonts\n",
    "l0 = tkinter.Label(root, text=\"\")\n",
    "l0.pack()\n",
    "l1 = tkinter.Label(root, text=\"Hello, Let's roll the dice together!\", fg = \"white\",\n",
    "        bg = \"black\",\n",
    "        font = \"Helvetica 16 bold italic\")\n",
    "l1.pack()"
   ]
  },
  {
   "cell_type": "code",
   "execution_count": 4,
   "id": "eb6d42d8",
   "metadata": {},
   "outputs": [],
   "source": [
    "# Adding the images\n",
    "dice = ['die1.png', 'die2.png', 'die3.png', 'die4.png', 'die5.png', 'die6.png']\n",
    "# simulating the dice with random numbers between 0 to 6 and generating image\n",
    "image1 = ImageTk.PhotoImage(Image.open(random.choice(dice)))"
   ]
  },
  {
   "cell_type": "code",
   "execution_count": 5,
   "id": "4a34272c",
   "metadata": {},
   "outputs": [],
   "source": [
    "# constructing a label widget for images and  packing a widget in the parent widget \n",
    "label1 = tkinter.Label(root, image=image1)\n",
    "label1.image = image1\n",
    "label1.pack( expand=True)\n"
   ]
  },
  {
   "cell_type": "code",
   "execution_count": 6,
   "id": "e4809f29",
   "metadata": {},
   "outputs": [],
   "source": [
    "# A function that will be activated by button and allow the user to role the dice\n",
    "def rolling_dice():\n",
    "    image1 = ImageTk.PhotoImage(Image.open(random.choice(dice)))\n",
    "    # update image\n",
    "    label1.configure(image=image1)\n",
    "    # keep a reference\n",
    "    label1.image = image1"
   ]
  },
  {
   "cell_type": "code",
   "execution_count": null,
   "id": "2ae8bd3e",
   "metadata": {},
   "outputs": [],
   "source": [
    "# Finally, adding button, and it's function\n",
    "button = tkinter.Button(root, text='Roll the Dice', fg='blue', command=rolling_dice)\n",
    "button.pack( expand=True)\n",
    "root.mainloop()"
   ]
  },
  {
   "cell_type": "code",
   "execution_count": null,
   "id": "df5bdba1",
   "metadata": {},
   "outputs": [],
   "source": []
  }
 ],
 "metadata": {
  "kernelspec": {
   "display_name": "Python 3 (ipykernel)",
   "language": "python",
   "name": "python3"
  },
  "language_info": {
   "codemirror_mode": {
    "name": "ipython",
    "version": 3
   },
   "file_extension": ".py",
   "mimetype": "text/x-python",
   "name": "python",
   "nbconvert_exporter": "python",
   "pygments_lexer": "ipython3",
   "version": "3.9.7"
  }
 },
 "nbformat": 4,
 "nbformat_minor": 5
}
